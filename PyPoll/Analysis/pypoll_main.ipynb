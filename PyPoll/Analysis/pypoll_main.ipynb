{
 "cells": [
  {
   "cell_type": "code",
   "execution_count": 31,
   "id": "298b2933",
   "metadata": {},
   "outputs": [
    {
     "name": "stdout",
     "output_type": "stream",
     "text": [
      "Election Results\n",
      "\n",
      "------------------------------\n",
      "\n",
      "Total Votes: 369711\n",
      "\n",
      "------------------------------\n",
      "\n",
      "Charles Casper Stockham: 23% (85213)\n",
      "Diana DeGette: 74% (272892)\n",
      "Raymon Anthony Doane: 3% (11606)\n",
      "\n",
      "------------------------------\n",
      "\n",
      "Winner: Diana DeGette \n",
      "\n",
      "------------------------------\n"
     ]
    }
   ],
   "source": [
    "#importing modules needed \n",
    "import csv\n",
    "\n",
    "# define file path \n",
    "csvpath = '/Users/brennancurrie/Desktop/My_Code/Class_Materials/Challenges/Brennan_Currie_Module_3_Challenge/python_challenge/PyPoll/Resources/election_data.csv'\n",
    "\n",
    "#open csv\n",
    "with open(csvpath) as csvfile:\n",
    "\n",
    "    #read csv/specify delimiter\n",
    "    csvreader = csv.reader(csvfile, delimiter=',')\n",
    "    #print(csvreader)\n",
    "    \n",
    "    #read the header first row\n",
    "    csvheader = next(csvreader)\n",
    "\n",
    "    \n",
    "    #rows & loop\n",
    "    votecount = 0\n",
    "    charlescount = 0\n",
    "    dianacount = 0\n",
    "    raymoncount = 0\n",
    "   \n",
    "    for row in csvreader:\n",
    "        votecount = votecount +1\n",
    "        if row[2] == \"Charles Casper Stockham\":\n",
    "                charlescount = charlescount +1\n",
    "        elif row[2] == \"Diana DeGette\":\n",
    "                dianacount = dianacount +1\n",
    "        else:\n",
    "                raymoncount = raymoncount +1\n",
    "    \n",
    "    \n",
    "    \n",
    "    #find winner\n",
    "    winner = max(raymoncount,dianacount,charlescount)\n",
    "    \n",
    "    #vote percents\n",
    "    charpercent = charlescount/votecount\n",
    "    dianapercent = dianacount/votecount\n",
    "    raypercent = raymoncount/votecount\n",
    "    \n",
    "    #format percents\n",
    "    charpercent = f\"{charpercent:.0%}\"\n",
    "    dianapercent = f\"{dianapercent:.0%}\"\n",
    "    raypercent = f\"{raypercent:.0%}\"\n",
    "    \n",
    "    #print results\n",
    "output = (\n",
    "            f'Election Results\\n\\n'\n",
    "            f'------------------------------\\n\\n'\n",
    "            f'Total Votes: {votecount}\\n\\n'\n",
    "            f'------------------------------\\n\\n'\n",
    "            f'Charles Casper Stockham: {charpercent} ({charlescount})\\n'\n",
    "            f'Diana DeGette: {dianapercent} ({dianacount})\\n'\n",
    "            f'Raymon Anthony Doane: {raypercent} ({raymoncount})\\n\\n'\n",
    "            f'------------------------------\\n\\n'\n",
    "            f'Winner: Diana DeGette \\n\\n'\n",
    "            f'------------------------------'\n",
    "         )\n",
    "        \n",
    "print(output)\n",
    "\n",
    "with open('outputfile_pypoll.txt','w') as outfile:\n",
    "    outfile.write(output)"
   ]
  },
  {
   "cell_type": "code",
   "execution_count": null,
   "id": "0ef92544",
   "metadata": {},
   "outputs": [],
   "source": []
  },
  {
   "cell_type": "code",
   "execution_count": null,
   "id": "6b353738",
   "metadata": {},
   "outputs": [],
   "source": []
  },
  {
   "cell_type": "code",
   "execution_count": null,
   "id": "4732c804",
   "metadata": {},
   "outputs": [],
   "source": []
  }
 ],
 "metadata": {
  "kernelspec": {
   "display_name": "Python 3 (ipykernel)",
   "language": "python",
   "name": "python3"
  },
  "language_info": {
   "codemirror_mode": {
    "name": "ipython",
    "version": 3
   },
   "file_extension": ".py",
   "mimetype": "text/x-python",
   "name": "python",
   "nbconvert_exporter": "python",
   "pygments_lexer": "ipython3",
   "version": "3.9.13"
  }
 },
 "nbformat": 4,
 "nbformat_minor": 5
}
