{
 "cells": [
  {
   "cell_type": "code",
   "execution_count": 100,
   "id": "b32a20cb",
   "metadata": {},
   "outputs": [
    {
     "name": "stdout",
     "output_type": "stream",
     "text": [
      "Financial Analysis\n",
      "\n",
      "------------------------------------------\n",
      "\n",
      "Total Months: 86\n",
      "Total: 22564198\n",
      "Average Change: \n",
      "Greatest Increase in Profits: \n",
      "Greatest Decrease in Profits: \n"
     ]
    }
   ],
   "source": [
    "#importing modules needed \n",
    "import csv\n",
    "\n",
    "# define file path \n",
    "csvpath = '/Users/brennancurrie/Desktop/Class_Materials/Challenges/Brennan_Currie_Module_3_Challenge/python_challenge/PyBank/Resources/budget_data.csv'\n",
    "\n",
    "#open csv\n",
    "with open(csvpath) as csvfile:\n",
    "\n",
    "    #read csv/specify delimiter\n",
    "    csvreader = csv.reader(csvfile, delimiter=',')\n",
    "    \n",
    "    \n",
    "    #read the header first row\n",
    "    csvheader = next(csvreader)\n",
    "    \n",
    "    \n",
    "    #read each row after header\n",
    "    monthcount = 0\n",
    "    total = 0\n",
    "    diff = 0\n",
    "    increase = 0\n",
    "    decrease = 0\n",
    "    \n",
    "    for row in csvreader:\n",
    "        monthcount = monthcount +1\n",
    "        total = total + int(row[1]) \n",
    "\n",
    "            \n",
    "avg = total/monthcount\n",
    "\n",
    "     "
   ]
  },
  {
   "cell_type": "code",
   "execution_count": null,
   "id": "d706013a",
   "metadata": {},
   "outputs": [],
   "source": [
    "#printing results\n",
    "print('Financial Analysis')\n",
    "print()\n",
    "print('------------------------------------------')\n",
    "print()\n",
    "print ('Total Months: ' + str(monthcount))\n",
    "print('Total: ' + str(total))\n",
    "print('Average Change: ')\n",
    "print('Greatest Increase in Profits: ')\n",
    "print('Greatest Decrease in Profits: ') "
   ]
  },
  {
   "cell_type": "code",
   "execution_count": null,
   "id": "b5b77fba",
   "metadata": {},
   "outputs": [],
   "source": []
  },
  {
   "cell_type": "code",
   "execution_count": null,
   "id": "0743f5d7",
   "metadata": {},
   "outputs": [],
   "source": []
  }
 ],
 "metadata": {
  "kernelspec": {
   "display_name": "Python 3 (ipykernel)",
   "language": "python",
   "name": "python3"
  },
  "language_info": {
   "codemirror_mode": {
    "name": "ipython",
    "version": 3
   },
   "file_extension": ".py",
   "mimetype": "text/x-python",
   "name": "python",
   "nbconvert_exporter": "python",
   "pygments_lexer": "ipython3",
   "version": "3.9.13"
  }
 },
 "nbformat": 4,
 "nbformat_minor": 5
}
