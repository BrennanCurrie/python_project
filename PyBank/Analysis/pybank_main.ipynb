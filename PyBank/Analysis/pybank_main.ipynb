{
 "cells": [
  {
   "cell_type": "code",
   "execution_count": 16,
   "id": "b32a20cb",
   "metadata": {},
   "outputs": [
    {
     "name": "stdout",
     "output_type": "stream",
     "text": [
      "Financial Analysis\n",
      "------------------------------------------\n",
      "\n",
      "Total Months: 86\n",
      "Total: $22564198\n",
      "Average Change: $-8311.11\n",
      "Greatest Increase in Profits: Aug-16 ($1862002)\n",
      "Greatest Decrease in Profits: Feb-14 ($-1825558)\n",
      "\n"
     ]
    }
   ],
   "source": [
    "#importing modules needed \n",
    "import csv\n",
    "\n",
    "# define file path \n",
    "csvpath = '/Users/brennancurrie/Desktop/My_Code/Class_Materials/Challenges/Brennan_Currie_Module_3_Challenge/python_challenge/PyBank/Resources/budget_data.csv'\n",
    "\n",
    "#open csv\n",
    "with open(csvpath) as csvfile:\n",
    "\n",
    "    #read csv/specify delimiter\n",
    "    csvreader = csv.reader(csvfile, delimiter=',')\n",
    "    \n",
    "    \n",
    "    #read the header first row\n",
    "    csvheader = next(csvreader)\n",
    "    \n",
    "    \n",
    "    #read each row after header\n",
    "    monthcount = 0\n",
    "    total = 0\n",
    "    diff = 0\n",
    "    increase = 0\n",
    "    decrease = 0\n",
    "    profitloss = 0\n",
    "    prevprofitloss = 1088983\n",
    "    totalchange = 0\n",
    "    \n",
    "    for row in csvreader:\n",
    "        monthcount = monthcount +1\n",
    "        total = total + int(row[1]) \n",
    "        profitloss = int(row[1])\n",
    "        \n",
    "        change = profitloss - prevprofitloss\n",
    "        \n",
    "        if change > increase:\n",
    "            increase = change\n",
    "            increasedate = row[0]\n",
    "            \n",
    "        if change < decrease:\n",
    "            decrease = change\n",
    "            decreasedate = row[0]\n",
    "        #change = profitloss - prevprofitloss\n",
    "        prevprofitloss = profitloss\n",
    "        totalchange = change + totalchange\n",
    "        \n",
    "avg = total/monthcount\n",
    "\n",
    "avgchange = totalchange/(monthcount-1)\n",
    "\n",
    "#printing results\n",
    "output = (\n",
    "            f'Financial Analysis\\n'\n",
    "            f'------------------------------------------\\n\\n'\n",
    "            f'Total Months: {monthcount}\\n'\n",
    "            f'Total: ${total}\\n'\n",
    "            f'Average Change: ${avgchange:.2f}\\n'\n",
    "            f'Greatest Increase in Profits: {increasedate} (${increase})\\n'\n",
    "            f'Greatest Decrease in Profits: {decreasedate} (${decrease})\\n'\n",
    "         )\n",
    "\n",
    "print(output)\n",
    "with open('outputfile_pybank.txt','w') as outfile:\n",
    "   outfile.write(output)"
   ]
  },
  {
   "cell_type": "code",
   "execution_count": null,
   "id": "d706013a",
   "metadata": {},
   "outputs": [],
   "source": [
    " "
   ]
  },
  {
   "cell_type": "code",
   "execution_count": null,
   "id": "b5b77fba",
   "metadata": {},
   "outputs": [],
   "source": []
  },
  {
   "cell_type": "code",
   "execution_count": null,
   "id": "0743f5d7",
   "metadata": {},
   "outputs": [],
   "source": []
  }
 ],
 "metadata": {
  "kernelspec": {
   "display_name": "Python 3 (ipykernel)",
   "language": "python",
   "name": "python3"
  },
  "language_info": {
   "codemirror_mode": {
    "name": "ipython",
    "version": 3
   },
   "file_extension": ".py",
   "mimetype": "text/x-python",
   "name": "python",
   "nbconvert_exporter": "python",
   "pygments_lexer": "ipython3",
   "version": "3.9.13"
  }
 },
 "nbformat": 4,
 "nbformat_minor": 5
}
